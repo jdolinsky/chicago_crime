{
 "cells": [
  {
   "cell_type": "code",
   "execution_count": 1,
   "id": "bd2c7b7c",
   "metadata": {},
   "outputs": [],
   "source": [
    "import pandas as pd\n",
    "from datetime import datetime\n"
   ]
  },
  {
   "cell_type": "code",
   "execution_count": 2,
   "id": "4204c8e8",
   "metadata": {},
   "outputs": [],
   "source": [
    "# Read in the data\n",
    "\n",
    "df = pd.read_csv(\"data/chicago_crime_2019_2023.csv\")"
   ]
  },
  {
   "cell_type": "code",
   "execution_count": 3,
   "id": "ba43bdf5",
   "metadata": {},
   "outputs": [
    {
     "name": "stdout",
     "output_type": "stream",
     "text": [
      "<class 'pandas.core.frame.DataFrame'>\n",
      "RangeIndex: 1120322 entries, 0 to 1120321\n",
      "Data columns (total 7 columns):\n",
      " #   Column          Non-Null Count    Dtype  \n",
      "---  ------          --------------    -----  \n",
      " 0   unique_key      1120322 non-null  int64  \n",
      " 1   date            1120322 non-null  object \n",
      " 2   block           1120322 non-null  object \n",
      " 3   primary_type    1120322 non-null  object \n",
      " 4   description     1120322 non-null  object \n",
      " 5   ward            1120274 non-null  float64\n",
      " 6   community_area  1120320 non-null  float64\n",
      "dtypes: float64(2), int64(1), object(4)\n",
      "memory usage: 59.8+ MB\n",
      "<class 'pandas.core.frame.DataFrame'>\n",
      "Index: 1120273 entries, 0 to 1120321\n",
      "Data columns (total 7 columns):\n",
      " #   Column          Non-Null Count    Dtype  \n",
      "---  ------          --------------    -----  \n",
      " 0   unique_key      1120273 non-null  int64  \n",
      " 1   date            1120273 non-null  object \n",
      " 2   block           1120273 non-null  object \n",
      " 3   primary_type    1120273 non-null  object \n",
      " 4   description     1120273 non-null  object \n",
      " 5   ward            1120273 non-null  float64\n",
      " 6   community_area  1120273 non-null  float64\n",
      "dtypes: float64(2), int64(1), object(4)\n",
      "memory usage: 68.4+ MB\n"
     ]
    }
   ],
   "source": [
    "df.info()\n",
    "\n",
    "# Clean data\n",
    "df_cl = df.drop_duplicates()\n",
    "df_cl = df_cl.dropna()\n",
    "\n",
    "df_cl.info()"
   ]
  },
  {
   "cell_type": "code",
   "execution_count": 4,
   "id": "1a32598f",
   "metadata": {},
   "outputs": [
    {
     "data": {
      "text/plain": [
       "array(['CRIMINAL SEXUAL ASSAULT', 'ROBBERY', 'PUBLIC PEACE VIOLATION',\n",
       "       'WEAPONS VIOLATION', 'PROSTITUTION', 'SEX OFFENSE',\n",
       "       'OFFENSE INVOLVING CHILDREN', 'NARCOTICS',\n",
       "       'INTERFERENCE WITH PUBLIC OFFICER', 'OTHER OFFENSE', 'HOMICIDE',\n",
       "       'BATTERY', 'ASSAULT', 'MOTOR VEHICLE THEFT', 'DECEPTIVE PRACTICE',\n",
       "       'CRIMINAL TRESPASS', 'THEFT', 'ARSON', 'INTIMIDATION', 'STALKING',\n",
       "       'CRIMINAL DAMAGE', 'KIDNAPPING', 'BURGLARY',\n",
       "       'LIQUOR LAW VIOLATION', 'CONCEALED CARRY LICENSE VIOLATION',\n",
       "       'CRIM SEXUAL ASSAULT', 'OTHER NARCOTIC VIOLATION', 'OBSCENITY',\n",
       "       'HUMAN TRAFFICKING', 'GAMBLING', 'NON-CRIMINAL',\n",
       "       'PUBLIC INDECENCY', 'RITUALISM'], dtype=object)"
      ]
     },
     "execution_count": 4,
     "metadata": {},
     "output_type": "execute_result"
    }
   ],
   "source": [
    "# list all primary crime types\n",
    "df_cl.primary_type.unique()"
   ]
  },
  {
   "cell_type": "code",
   "execution_count": 5,
   "id": "38d9ac88",
   "metadata": {},
   "outputs": [
    {
     "data": {
      "text/html": [
       "<div>\n",
       "<style scoped>\n",
       "    .dataframe tbody tr th:only-of-type {\n",
       "        vertical-align: middle;\n",
       "    }\n",
       "\n",
       "    .dataframe tbody tr th {\n",
       "        vertical-align: top;\n",
       "    }\n",
       "\n",
       "    .dataframe thead th {\n",
       "        text-align: right;\n",
       "    }\n",
       "</style>\n",
       "<table border=\"1\" class=\"dataframe\">\n",
       "  <thead>\n",
       "    <tr style=\"text-align: right;\">\n",
       "      <th></th>\n",
       "      <th>unique_key</th>\n",
       "      <th>date</th>\n",
       "      <th>block</th>\n",
       "      <th>primary_type</th>\n",
       "      <th>description</th>\n",
       "      <th>ward</th>\n",
       "      <th>community_area</th>\n",
       "    </tr>\n",
       "  </thead>\n",
       "  <tbody>\n",
       "    <tr>\n",
       "      <th>415930</th>\n",
       "      <td>11904890</td>\n",
       "      <td>2019-11-27 06:45:00 UTC</td>\n",
       "      <td>055XX N HARLEM AVE</td>\n",
       "      <td>ASSAULT</td>\n",
       "      <td>AGGRAVATED:KNIFE/CUTTING INSTR</td>\n",
       "      <td>41.0</td>\n",
       "      <td>10.0</td>\n",
       "    </tr>\n",
       "    <tr>\n",
       "      <th>659957</th>\n",
       "      <td>11756071</td>\n",
       "      <td>2019-07-13 08:00:00 UTC</td>\n",
       "      <td>077XX N HASKINS AVE</td>\n",
       "      <td>CRIMINAL DAMAGE</td>\n",
       "      <td>TO PROPERTY</td>\n",
       "      <td>49.0</td>\n",
       "      <td>1.0</td>\n",
       "    </tr>\n",
       "    <tr>\n",
       "      <th>1001119</th>\n",
       "      <td>12749873</td>\n",
       "      <td>2022-07-03 01:20:00 UTC</td>\n",
       "      <td>023XX W 52ND ST</td>\n",
       "      <td>ASSAULT</td>\n",
       "      <td>AGGRAVATED - HANDGUN</td>\n",
       "      <td>15.0</td>\n",
       "      <td>63.0</td>\n",
       "    </tr>\n",
       "    <tr>\n",
       "      <th>378791</th>\n",
       "      <td>11647179</td>\n",
       "      <td>2019-04-07 03:26:00 UTC</td>\n",
       "      <td>039XX W WILCOX ST</td>\n",
       "      <td>BATTERY</td>\n",
       "      <td>AGGRAVATED: HANDGUN</td>\n",
       "      <td>28.0</td>\n",
       "      <td>26.0</td>\n",
       "    </tr>\n",
       "    <tr>\n",
       "      <th>493809</th>\n",
       "      <td>11994725</td>\n",
       "      <td>2020-02-28 05:49:00 UTC</td>\n",
       "      <td>040XX W POTOMAC AVE</td>\n",
       "      <td>ASSAULT</td>\n",
       "      <td>SIMPLE</td>\n",
       "      <td>37.0</td>\n",
       "      <td>23.0</td>\n",
       "    </tr>\n",
       "    <tr>\n",
       "      <th>212301</th>\n",
       "      <td>12580750</td>\n",
       "      <td>2021-12-30 06:15:00 UTC</td>\n",
       "      <td>019XX N CICERO AVE</td>\n",
       "      <td>THEFT</td>\n",
       "      <td>OVER $500</td>\n",
       "      <td>36.0</td>\n",
       "      <td>19.0</td>\n",
       "    </tr>\n",
       "    <tr>\n",
       "      <th>214527</th>\n",
       "      <td>13113158</td>\n",
       "      <td>2023-06-18 09:55:00 UTC</td>\n",
       "      <td>050XX N WINCHESTER AVE</td>\n",
       "      <td>THEFT</td>\n",
       "      <td>OVER $500</td>\n",
       "      <td>40.0</td>\n",
       "      <td>4.0</td>\n",
       "    </tr>\n",
       "    <tr>\n",
       "      <th>617146</th>\n",
       "      <td>12108409</td>\n",
       "      <td>2020-07-17 12:07:00 UTC</td>\n",
       "      <td>031XX W CHASE AVE</td>\n",
       "      <td>MOTOR VEHICLE THEFT</td>\n",
       "      <td>AUTOMOBILE</td>\n",
       "      <td>50.0</td>\n",
       "      <td>2.0</td>\n",
       "    </tr>\n",
       "    <tr>\n",
       "      <th>245701</th>\n",
       "      <td>13017954</td>\n",
       "      <td>2023-03-21 05:37:00 UTC</td>\n",
       "      <td>013XX S DAMEN AVE</td>\n",
       "      <td>MOTOR VEHICLE THEFT</td>\n",
       "      <td>AUTOMOBILE</td>\n",
       "      <td>28.0</td>\n",
       "      <td>28.0</td>\n",
       "    </tr>\n",
       "    <tr>\n",
       "      <th>557665</th>\n",
       "      <td>12666403</td>\n",
       "      <td>2022-04-08 09:00:00 UTC</td>\n",
       "      <td>036XX W 13TH ST</td>\n",
       "      <td>THEFT</td>\n",
       "      <td>OVER $500</td>\n",
       "      <td>24.0</td>\n",
       "      <td>29.0</td>\n",
       "    </tr>\n",
       "  </tbody>\n",
       "</table>\n",
       "</div>"
      ],
      "text/plain": [
       "         unique_key                     date                   block  \\\n",
       "415930     11904890  2019-11-27 06:45:00 UTC      055XX N HARLEM AVE   \n",
       "659957     11756071  2019-07-13 08:00:00 UTC     077XX N HASKINS AVE   \n",
       "1001119    12749873  2022-07-03 01:20:00 UTC         023XX W 52ND ST   \n",
       "378791     11647179  2019-04-07 03:26:00 UTC       039XX W WILCOX ST   \n",
       "493809     11994725  2020-02-28 05:49:00 UTC     040XX W POTOMAC AVE   \n",
       "212301     12580750  2021-12-30 06:15:00 UTC      019XX N CICERO AVE   \n",
       "214527     13113158  2023-06-18 09:55:00 UTC  050XX N WINCHESTER AVE   \n",
       "617146     12108409  2020-07-17 12:07:00 UTC       031XX W CHASE AVE   \n",
       "245701     13017954  2023-03-21 05:37:00 UTC       013XX S DAMEN AVE   \n",
       "557665     12666403  2022-04-08 09:00:00 UTC         036XX W 13TH ST   \n",
       "\n",
       "                primary_type                     description  ward  \\\n",
       "415930               ASSAULT  AGGRAVATED:KNIFE/CUTTING INSTR  41.0   \n",
       "659957       CRIMINAL DAMAGE                     TO PROPERTY  49.0   \n",
       "1001119              ASSAULT            AGGRAVATED - HANDGUN  15.0   \n",
       "378791               BATTERY             AGGRAVATED: HANDGUN  28.0   \n",
       "493809               ASSAULT                          SIMPLE  37.0   \n",
       "212301                 THEFT                       OVER $500  36.0   \n",
       "214527                 THEFT                       OVER $500  40.0   \n",
       "617146   MOTOR VEHICLE THEFT                      AUTOMOBILE  50.0   \n",
       "245701   MOTOR VEHICLE THEFT                      AUTOMOBILE  28.0   \n",
       "557665                 THEFT                       OVER $500  24.0   \n",
       "\n",
       "         community_area  \n",
       "415930             10.0  \n",
       "659957              1.0  \n",
       "1001119            63.0  \n",
       "378791             26.0  \n",
       "493809             23.0  \n",
       "212301             19.0  \n",
       "214527              4.0  \n",
       "617146              2.0  \n",
       "245701             28.0  \n",
       "557665             29.0  "
      ]
     },
     "execution_count": 5,
     "metadata": {},
     "output_type": "execute_result"
    }
   ],
   "source": [
    "df_cl.sample(10)\n"
   ]
  },
  {
   "cell_type": "code",
   "execution_count": null,
   "id": "9581e9c2",
   "metadata": {},
   "outputs": [],
   "source": [
    "# Convert timestamp to date \n",
    "df_cl[\"date\"] = pd.to_datetime(df_cl[\"date\"])\n",
    "# set index to date\n",
    "df_cl = df_cl.set_index(\"date\")\n",
    "# insert year instead of date\n",
    "df_cl[\"year\"] =  df_cl.index.year"
   ]
  },
  {
   "cell_type": "code",
   "execution_count": null,
   "id": "222015f6",
   "metadata": {
    "scrolled": true
   },
   "outputs": [],
   "source": [
    "df_cl_year = df_cl.groupby([\"year\", \"primary_type\"])\n",
    "df_crime_counts = df_cl_year.agg(count=(\"primary_type\", \"count\")).unstack(fill_value=0)"
   ]
  },
  {
   "cell_type": "code",
   "execution_count": null,
   "id": "ced55234",
   "metadata": {},
   "outputs": [],
   "source": [
    "df_crime_counts.sample(4)"
   ]
  },
  {
   "cell_type": "code",
   "execution_count": null,
   "id": "98bd2d60",
   "metadata": {},
   "outputs": [],
   "source": []
  }
 ],
 "metadata": {
  "kernelspec": {
   "display_name": "Python 3 (ipykernel)",
   "language": "python",
   "name": "python3"
  },
  "language_info": {
   "codemirror_mode": {
    "name": "ipython",
    "version": 3
   },
   "file_extension": ".py",
   "mimetype": "text/x-python",
   "name": "python",
   "nbconvert_exporter": "python",
   "pygments_lexer": "ipython3",
   "version": "3.11.5"
  }
 },
 "nbformat": 4,
 "nbformat_minor": 5
}
