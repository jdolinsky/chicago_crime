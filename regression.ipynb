{
 "cells": [
  {
   "cell_type": "code",
   "execution_count": 1,
   "metadata": {},
   "outputs": [],
   "source": [
    "import pandas as pd\n",
    "import numpy as np\n",
    "from scipy.stats import linregress\n",
    "import matplotlib.pyplot as plt\n"
   ]
  },
  {
   "cell_type": "code",
   "execution_count": 2,
   "metadata": {},
   "outputs": [],
   "source": [
    "# Import, clean, and filter data as necessary \n",
    "df = pd.read_csv('data/chicago_crime_2019_2023.csv')\n",
    "df.dropna(subset=['community_area', 'unique_key'], inplace=True)\n",
    "df['community_area'] = df['community_area'].astype(int)"
   ]
  },
  {
   "cell_type": "code",
   "execution_count": 3,
   "metadata": {},
   "outputs": [],
   "source": [
    "# replace 'CRIM SEXUAL ASSAULT' with 'CRIMINAL SEXUAL ASSAULT' to not have separate counts\n",
    "df['primary_type'] = df['primary_type'].replace('CRIM SEXUAL ASSAULT', 'CRIMINAL SEXUAL ASSAULT')"
   ]
  },
  {
   "cell_type": "code",
   "execution_count": 4,
   "metadata": {},
   "outputs": [
    {
     "data": {
      "text/html": [
       "<div>\n",
       "<style scoped>\n",
       "    .dataframe tbody tr th:only-of-type {\n",
       "        vertical-align: middle;\n",
       "    }\n",
       "\n",
       "    .dataframe tbody tr th {\n",
       "        vertical-align: top;\n",
       "    }\n",
       "\n",
       "    .dataframe thead th {\n",
       "        text-align: right;\n",
       "    }\n",
       "</style>\n",
       "<table border=\"1\" class=\"dataframe\">\n",
       "  <thead>\n",
       "    <tr style=\"text-align: right;\">\n",
       "      <th></th>\n",
       "      <th>unique_key</th>\n",
       "      <th>date</th>\n",
       "      <th>block</th>\n",
       "      <th>primary_type</th>\n",
       "      <th>description</th>\n",
       "      <th>ward</th>\n",
       "      <th>community_area</th>\n",
       "    </tr>\n",
       "  </thead>\n",
       "  <tbody>\n",
       "    <tr>\n",
       "      <th>0</th>\n",
       "      <td>12465794</td>\n",
       "      <td>2021-08-27 10:00:00</td>\n",
       "      <td>104XX S MICHIGAN AVE</td>\n",
       "      <td>CRIMINAL SEXUAL ASSAULT</td>\n",
       "      <td>AGGRAVATED - OTHER</td>\n",
       "      <td>9.0</td>\n",
       "      <td>49</td>\n",
       "    </tr>\n",
       "    <tr>\n",
       "      <th>1</th>\n",
       "      <td>12788122</td>\n",
       "      <td>2022-08-08 11:42:00</td>\n",
       "      <td>007XX E 103RD ST</td>\n",
       "      <td>ROBBERY</td>\n",
       "      <td>AGGRAVATED VEHICULAR HIJACKING</td>\n",
       "      <td>9.0</td>\n",
       "      <td>50</td>\n",
       "    </tr>\n",
       "    <tr>\n",
       "      <th>2</th>\n",
       "      <td>12502168</td>\n",
       "      <td>2021-10-04 08:10:00</td>\n",
       "      <td>0000X W 103RD ST</td>\n",
       "      <td>ROBBERY</td>\n",
       "      <td>ATTEMPT ARMED - HANDGUN</td>\n",
       "      <td>34.0</td>\n",
       "      <td>49</td>\n",
       "    </tr>\n",
       "    <tr>\n",
       "      <th>3</th>\n",
       "      <td>13001633</td>\n",
       "      <td>2023-03-05 05:15:00</td>\n",
       "      <td>009XX E 104TH ST</td>\n",
       "      <td>PUBLIC PEACE VIOLATION</td>\n",
       "      <td>RECKLESS CONDUCT</td>\n",
       "      <td>9.0</td>\n",
       "      <td>50</td>\n",
       "    </tr>\n",
       "    <tr>\n",
       "      <th>4</th>\n",
       "      <td>11830976</td>\n",
       "      <td>2019-09-16 11:53:00</td>\n",
       "      <td>009XX E 104TH ST</td>\n",
       "      <td>WEAPONS VIOLATION</td>\n",
       "      <td>UNLAWFUL POSS OF HANDGUN</td>\n",
       "      <td>9.0</td>\n",
       "      <td>50</td>\n",
       "    </tr>\n",
       "  </tbody>\n",
       "</table>\n",
       "</div>"
      ],
      "text/plain": [
       "   unique_key                date                 block  \\\n",
       "0    12465794 2021-08-27 10:00:00  104XX S MICHIGAN AVE   \n",
       "1    12788122 2022-08-08 11:42:00      007XX E 103RD ST   \n",
       "2    12502168 2021-10-04 08:10:00      0000X W 103RD ST   \n",
       "3    13001633 2023-03-05 05:15:00      009XX E 104TH ST   \n",
       "4    11830976 2019-09-16 11:53:00      009XX E 104TH ST   \n",
       "\n",
       "              primary_type                     description  ward  \\\n",
       "0  CRIMINAL SEXUAL ASSAULT              AGGRAVATED - OTHER   9.0   \n",
       "1                  ROBBERY  AGGRAVATED VEHICULAR HIJACKING   9.0   \n",
       "2                  ROBBERY         ATTEMPT ARMED - HANDGUN  34.0   \n",
       "3   PUBLIC PEACE VIOLATION                RECKLESS CONDUCT   9.0   \n",
       "4        WEAPONS VIOLATION        UNLAWFUL POSS OF HANDGUN   9.0   \n",
       "\n",
       "   community_area  \n",
       "0              49  \n",
       "1              50  \n",
       "2              49  \n",
       "3              50  \n",
       "4              50  "
      ]
     },
     "execution_count": 4,
     "metadata": {},
     "output_type": "execute_result"
    }
   ],
   "source": [
    "# convert from utc to datetime and remove time zone effect\n",
    "df['date'] = pd.to_datetime(df['date'], utc=True)\n",
    "df['date'] = df['date'].dt.tz_localize(None)\n",
    "df.head()"
   ]
  },
  {
   "cell_type": "code",
   "execution_count": 5,
   "metadata": {},
   "outputs": [],
   "source": [
    "# adding csv for community area numbers\n",
    "comm_areas = pd.read_csv('data/CommAreas.csv')\n",
    "\n",
    "# merging community name to df\n",
    "df1 = pd.merge(df, comm_areas, on='community_area', how='left')"
   ]
  },
  {
   "cell_type": "code",
   "execution_count": 6,
   "metadata": {},
   "outputs": [],
   "source": [
    "df1['month'] = df1['date'].dt.strftime('%B')\n",
    "df1['year'] = df1['date'].dt.strftime('%Y')"
   ]
  },
  {
   "cell_type": "code",
   "execution_count": 7,
   "metadata": {},
   "outputs": [
    {
     "data": {
      "text/html": [
       "<div>\n",
       "<style scoped>\n",
       "    .dataframe tbody tr th:only-of-type {\n",
       "        vertical-align: middle;\n",
       "    }\n",
       "\n",
       "    .dataframe tbody tr th {\n",
       "        vertical-align: top;\n",
       "    }\n",
       "\n",
       "    .dataframe thead th {\n",
       "        text-align: right;\n",
       "    }\n",
       "</style>\n",
       "<table border=\"1\" class=\"dataframe\">\n",
       "  <thead>\n",
       "    <tr style=\"text-align: right;\">\n",
       "      <th></th>\n",
       "      <th>month</th>\n",
       "      <th>count</th>\n",
       "    </tr>\n",
       "  </thead>\n",
       "  <tbody>\n",
       "    <tr>\n",
       "      <th>0</th>\n",
       "      <td>January 2022</td>\n",
       "      <td>15618</td>\n",
       "    </tr>\n",
       "    <tr>\n",
       "      <th>1</th>\n",
       "      <td>February 2022</td>\n",
       "      <td>15237</td>\n",
       "    </tr>\n",
       "    <tr>\n",
       "      <th>2</th>\n",
       "      <td>March 2022</td>\n",
       "      <td>18386</td>\n",
       "    </tr>\n",
       "    <tr>\n",
       "      <th>3</th>\n",
       "      <td>April 2022</td>\n",
       "      <td>18000</td>\n",
       "    </tr>\n",
       "    <tr>\n",
       "      <th>4</th>\n",
       "      <td>May 2022</td>\n",
       "      <td>20144</td>\n",
       "    </tr>\n",
       "    <tr>\n",
       "      <th>5</th>\n",
       "      <td>June 2022</td>\n",
       "      <td>20791</td>\n",
       "    </tr>\n",
       "    <tr>\n",
       "      <th>6</th>\n",
       "      <td>July 2022</td>\n",
       "      <td>22276</td>\n",
       "    </tr>\n",
       "    <tr>\n",
       "      <th>7</th>\n",
       "      <td>August 2022</td>\n",
       "      <td>22305</td>\n",
       "    </tr>\n",
       "    <tr>\n",
       "      <th>8</th>\n",
       "      <td>September 2022</td>\n",
       "      <td>22340</td>\n",
       "    </tr>\n",
       "    <tr>\n",
       "      <th>9</th>\n",
       "      <td>October 2022</td>\n",
       "      <td>23203</td>\n",
       "    </tr>\n",
       "    <tr>\n",
       "      <th>10</th>\n",
       "      <td>November 2022</td>\n",
       "      <td>20791</td>\n",
       "    </tr>\n",
       "    <tr>\n",
       "      <th>11</th>\n",
       "      <td>December 2022</td>\n",
       "      <td>19899</td>\n",
       "    </tr>\n",
       "  </tbody>\n",
       "</table>\n",
       "</div>"
      ],
      "text/plain": [
       "             month  count\n",
       "0     January 2022  15618\n",
       "1    February 2022  15237\n",
       "2       March 2022  18386\n",
       "3       April 2022  18000\n",
       "4         May 2022  20144\n",
       "5        June 2022  20791\n",
       "6        July 2022  22276\n",
       "7      August 2022  22305\n",
       "8   September 2022  22340\n",
       "9     October 2022  23203\n",
       "10   November 2022  20791\n",
       "11   December 2022  19899"
      ]
     },
     "execution_count": 7,
     "metadata": {},
     "output_type": "execute_result"
    }
   ],
   "source": [
    "# getting monthly counts of crime for 2019\n",
    "months2019_df = df1[df1['year'] == '2019']\n",
    "months2019_df = pd.DataFrame(months2019_df['month'].value_counts())\n",
    "months2019_df.reset_index(level=0,inplace=True)\n",
    "\n",
    "# reordering rows to be in chronological order by month\n",
    "custom_month_order = ['January', 'February', 'March', 'April', 'May', 'June','July', 'August', 'September', 'October', 'November', 'December']\n",
    "months2019_df['month'] = pd.Categorical(months2019_df['month'], categories=custom_month_order, ordered=True)\n",
    "months2019_df = months2019_df.sort_values('month')\n",
    "months2019_df.reset_index(drop=True, inplace=True)\n",
    "\n",
    "months2019_df['year'] = '2019'\n",
    "months2019_df['month'] = months2019_df['month'].astype(str)\n",
    "months2019_df['month'] = months2019_df['month'] + ' ' + months2019_df['year']\n",
    "months2019_df = months2019_df.drop(columns=['year'])\n",
    "\n",
    "# repeating two previous steps for 2020\n",
    "months2020_df = df1[df1['year'] == '2020']\n",
    "months2020_df = pd.DataFrame(months2020_df['month'].value_counts())\n",
    "months2020_df.reset_index(level=0,inplace=True)\n",
    "\n",
    "months2020_df['month'] = pd.Categorical(months2020_df['month'], categories=custom_month_order, ordered=True)\n",
    "months2020_df = months2020_df.sort_values('month')\n",
    "months2020_df.reset_index(drop=True, inplace=True)\n",
    "\n",
    "months2020_df['year'] = '2020'\n",
    "months2020_df['month'] = months2020_df['month'].astype(str)\n",
    "months2020_df['month'] = months2020_df['month'] + ' ' + months2020_df['year']\n",
    "months2020_df = months2020_df.drop(columns=['year'])\n",
    "\n",
    "# repeating two previous steps for 2021\n",
    "months2021_df = df1[df1['year'] == '2021']\n",
    "months2021_df = pd.DataFrame(months2021_df['month'].value_counts())\n",
    "months2021_df.reset_index(level=0,inplace=True)\n",
    "\n",
    "months2021_df['month'] = pd.Categorical(months2021_df['month'], categories=custom_month_order, ordered=True)\n",
    "months2021_df = months2021_df.sort_values('month')\n",
    "months2021_df.reset_index(drop=True, inplace=True)\n",
    "\n",
    "months2021_df['year'] = '2021'\n",
    "months2021_df['month'] = months2021_df['month'].astype(str)\n",
    "months2021_df['month'] = months2021_df['month'] + ' ' + months2021_df['year']\n",
    "months2021_df = months2021_df.drop(columns=['year'])\n",
    "\n",
    "# repeating two previous steps for 2022\n",
    "months2022_df = df1[df1['year'] == '2022']\n",
    "months2022_df = pd.DataFrame(months2022_df['month'].value_counts())\n",
    "months2022_df.reset_index(level=0,inplace=True)\n",
    "\n",
    "months2022_df['month'] = pd.Categorical(months2022_df['month'], categories=custom_month_order, ordered=True)\n",
    "months2022_df = months2022_df.sort_values('month')\n",
    "months2022_df.reset_index(drop=True, inplace=True)\n",
    "\n",
    "months2022_df['year'] = '2022'\n",
    "months2022_df['month'] = months2022_df['month'].astype(str)\n",
    "months2022_df['month'] = months2022_df['month'] + ' ' + months2022_df['year']\n",
    "months2022_df = months2022_df.drop(columns=['year'])\n",
    "\n",
    "# repeating two previous steps for 2023\n",
    "months2023_df = df1[df1['year'] == '2023']\n",
    "months2023_df = pd.DataFrame(months2023_df['month'].value_counts())\n",
    "months2023_df.reset_index(level=0,inplace=True)\n",
    "\n",
    "months2023_df['month'] = pd.Categorical(months2023_df['month'], categories=custom_month_order, ordered=True)\n",
    "months2023_df = months2023_df.sort_values('month')\n",
    "months2023_df.reset_index(drop=True, inplace=True)\n",
    "months2023_df = months2023_df.drop([9]) \n",
    "\n",
    "months2023_df['year'] = '2023'\n",
    "months2023_df['month'] = months2023_df['month'].astype(str)\n",
    "months2023_df['month'] = months2023_df['month'] + ' ' + months2023_df['year']\n",
    "months2023_df = months2023_df.drop(columns=['year'])\n",
    "\n",
    "months2022_df"
   ]
  },
  {
   "cell_type": "code",
   "execution_count": 8,
   "metadata": {},
   "outputs": [
    {
     "data": {
      "text/html": [
       "<div>\n",
       "<style scoped>\n",
       "    .dataframe tbody tr th:only-of-type {\n",
       "        vertical-align: middle;\n",
       "    }\n",
       "\n",
       "    .dataframe tbody tr th {\n",
       "        vertical-align: top;\n",
       "    }\n",
       "\n",
       "    .dataframe thead th {\n",
       "        text-align: right;\n",
       "    }\n",
       "</style>\n",
       "<table border=\"1\" class=\"dataframe\">\n",
       "  <thead>\n",
       "    <tr style=\"text-align: right;\">\n",
       "      <th></th>\n",
       "      <th>month</th>\n",
       "      <th>count</th>\n",
       "    </tr>\n",
       "  </thead>\n",
       "  <tbody>\n",
       "    <tr>\n",
       "      <th>52</th>\n",
       "      <td>May 2023</td>\n",
       "      <td>22061</td>\n",
       "    </tr>\n",
       "    <tr>\n",
       "      <th>53</th>\n",
       "      <td>June 2023</td>\n",
       "      <td>22448</td>\n",
       "    </tr>\n",
       "    <tr>\n",
       "      <th>54</th>\n",
       "      <td>July 2023</td>\n",
       "      <td>23730</td>\n",
       "    </tr>\n",
       "    <tr>\n",
       "      <th>55</th>\n",
       "      <td>August 2023</td>\n",
       "      <td>23781</td>\n",
       "    </tr>\n",
       "    <tr>\n",
       "      <th>56</th>\n",
       "      <td>September 2023</td>\n",
       "      <td>21869</td>\n",
       "    </tr>\n",
       "  </tbody>\n",
       "</table>\n",
       "</div>"
      ],
      "text/plain": [
       "             month  count\n",
       "52        May 2023  22061\n",
       "53       June 2023  22448\n",
       "54       July 2023  23730\n",
       "55     August 2023  23781\n",
       "56  September 2023  21869"
      ]
     },
     "execution_count": 8,
     "metadata": {},
     "output_type": "execute_result"
    }
   ],
   "source": [
    "# stacking togther years 2019-2023\n",
    "concatenated_df = pd.concat([months2019_df, months2020_df, months2021_df, months2022_df, months2023_df])\n",
    "concatenated_df.reset_index().drop(columns='index').tail()"
   ]
  },
  {
   "cell_type": "code",
   "execution_count": 9,
   "metadata": {},
   "outputs": [
    {
     "data": {
      "text/html": [
       "<div>\n",
       "<style scoped>\n",
       "    .dataframe tbody tr th:only-of-type {\n",
       "        vertical-align: middle;\n",
       "    }\n",
       "\n",
       "    .dataframe tbody tr th {\n",
       "        vertical-align: top;\n",
       "    }\n",
       "\n",
       "    .dataframe thead th {\n",
       "        text-align: right;\n",
       "    }\n",
       "</style>\n",
       "<table border=\"1\" class=\"dataframe\">\n",
       "  <thead>\n",
       "    <tr style=\"text-align: right;\">\n",
       "      <th></th>\n",
       "      <th>month</th>\n",
       "      <th>avg_temp (F)</th>\n",
       "    </tr>\n",
       "  </thead>\n",
       "  <tbody>\n",
       "    <tr>\n",
       "      <th>0</th>\n",
       "      <td>January 2019</td>\n",
       "      <td>21</td>\n",
       "    </tr>\n",
       "    <tr>\n",
       "      <th>1</th>\n",
       "      <td>February 2019</td>\n",
       "      <td>25.9</td>\n",
       "    </tr>\n",
       "    <tr>\n",
       "      <th>2</th>\n",
       "      <td>March 2019</td>\n",
       "      <td>34.3</td>\n",
       "    </tr>\n",
       "    <tr>\n",
       "      <th>3</th>\n",
       "      <td>April 2019</td>\n",
       "      <td>49.7</td>\n",
       "    </tr>\n",
       "    <tr>\n",
       "      <th>4</th>\n",
       "      <td>May 2019</td>\n",
       "      <td>58</td>\n",
       "    </tr>\n",
       "  </tbody>\n",
       "</table>\n",
       "</div>"
      ],
      "text/plain": [
       "           month avg_temp (F)\n",
       "0   January 2019           21\n",
       "1  February 2019         25.9\n",
       "2     March 2019         34.3\n",
       "3     April 2019         49.7\n",
       "4       May 2019           58"
      ]
     },
     "execution_count": 9,
     "metadata": {},
     "output_type": "execute_result"
    }
   ],
   "source": [
    "# reading in monthly average temps from weather.gov\n",
    "avg_temps = pd.read_csv('data/monthly_weather.csv')\n",
    "\n",
    "# have to split one column into two\n",
    "avg_temps[['month', 'avg_temp (F)']] = avg_temps['month\\tavg_temp'].str.split('\\t', expand=True)\n",
    "\n",
    "avg_temps = avg_temps.drop(columns='month\\tavg_temp')\n",
    "avg_temps.head()"
   ]
  },
  {
   "cell_type": "code",
   "execution_count": 10,
   "metadata": {},
   "outputs": [
    {
     "data": {
      "text/html": [
       "<div>\n",
       "<style scoped>\n",
       "    .dataframe tbody tr th:only-of-type {\n",
       "        vertical-align: middle;\n",
       "    }\n",
       "\n",
       "    .dataframe tbody tr th {\n",
       "        vertical-align: top;\n",
       "    }\n",
       "\n",
       "    .dataframe thead th {\n",
       "        text-align: right;\n",
       "    }\n",
       "</style>\n",
       "<table border=\"1\" class=\"dataframe\">\n",
       "  <thead>\n",
       "    <tr style=\"text-align: right;\">\n",
       "      <th></th>\n",
       "      <th>month</th>\n",
       "      <th>count</th>\n",
       "      <th>avg_temp (F)</th>\n",
       "    </tr>\n",
       "  </thead>\n",
       "  <tbody>\n",
       "    <tr>\n",
       "      <th>0</th>\n",
       "      <td>January 2019</td>\n",
       "      <td>19764</td>\n",
       "      <td>21</td>\n",
       "    </tr>\n",
       "    <tr>\n",
       "      <th>1</th>\n",
       "      <td>February 2019</td>\n",
       "      <td>18441</td>\n",
       "      <td>25.9</td>\n",
       "    </tr>\n",
       "    <tr>\n",
       "      <th>2</th>\n",
       "      <td>March 2019</td>\n",
       "      <td>20455</td>\n",
       "      <td>34.3</td>\n",
       "    </tr>\n",
       "    <tr>\n",
       "      <th>3</th>\n",
       "      <td>April 2019</td>\n",
       "      <td>21041</td>\n",
       "      <td>49.7</td>\n",
       "    </tr>\n",
       "    <tr>\n",
       "      <th>4</th>\n",
       "      <td>May 2019</td>\n",
       "      <td>23678</td>\n",
       "      <td>58</td>\n",
       "    </tr>\n",
       "  </tbody>\n",
       "</table>\n",
       "</div>"
      ],
      "text/plain": [
       "           month  count avg_temp (F)\n",
       "0   January 2019  19764           21\n",
       "1  February 2019  18441         25.9\n",
       "2     March 2019  20455         34.3\n",
       "3     April 2019  21041         49.7\n",
       "4       May 2019  23678           58"
      ]
     },
     "execution_count": 10,
     "metadata": {},
     "output_type": "execute_result"
    }
   ],
   "source": [
    "# merge monthly total crimes and monthly average temps\n",
    "regression_df = pd.merge(concatenated_df, avg_temps, on='month')\n",
    "regression_df.head()"
   ]
  },
  {
   "cell_type": "code",
   "execution_count": 11,
   "metadata": {},
   "outputs": [
    {
     "data": {
      "text/plain": [
       "11973.5"
      ]
     },
     "execution_count": 11,
     "metadata": {},
     "output_type": "execute_result"
    }
   ],
   "source": [
    "# checking for outliers in monthly total crimes\n",
    "Q1 = np.percentile(regression_df['count'], 25)\n",
    "Q3 = np.percentile(regression_df['count'], 75)\n",
    "IQR = Q3 - Q1\n",
    "lower_bound = Q1 - 1.5 * IQR\n",
    "upper_bound = Q3 + 1.5 * IQR\n",
    "outliers = np.where((regression_df['count'] < lower_bound) | (regression_df['count'] > upper_bound))\n",
    "lower_bound"
   ]
  },
  {
   "cell_type": "code",
   "execution_count": 12,
   "metadata": {},
   "outputs": [],
   "source": [
    "# set up linear regression on monthly crime totals vs average monthly temperature\n",
    "regression_df['avg_temp (F)'] = regression_df['avg_temp (F)'].astype(float)\n",
    "regression_df['count'] = regression_df['count'].astype(int)\n",
    "\n",
    "slope, intercept, r, p, std_err = linregress(regression_df['avg_temp (F)'], regression_df['count'])"
   ]
  },
  {
   "cell_type": "code",
   "execution_count": 13,
   "metadata": {},
   "outputs": [],
   "source": [
    "# setting line equattion for estimating crime count based on avg temp of month\n",
    "temp = regression_df['avg_temp (F)']\n",
    "predicted_count = (slope * temp) + intercept"
   ]
  },
  {
   "cell_type": "code",
   "execution_count": 14,
   "metadata": {},
   "outputs": [
    {
     "data": {
      "image/png": "[encoded data removed]",
      "text/plain": [
       "<Figure size 640x480 with 1 Axes>"
      ]
     },
     "metadata": {},
     "output_type": "display_data"
    },
    {
     "name": "stdout",
     "output_type": "stream",
     "text": [
      "The correlation r value is: 0.5168584667727318\n"
     ]
    }
   ],
   "source": [
    "# Plot with linear regression line\n",
    "# Import autolocator for xticks\n",
    "from matplotlib.ticker import AutoLocator\n",
    "\n",
    "line_eq = f'y = {round(slope,2)}x + {round(intercept,2)}'\n",
    "\n",
    "plt.scatter(temp, regression_df['count'])\n",
    "plt.plot(temp, predicted_count, \"-\", color='r')\n",
    "plt.gca().xaxis.set_major_locator(AutoLocator())\n",
    "plt.xlabel('Average Monthly Temperature (F)')\n",
    "plt.ylabel('Monthly Total Crimes')\n",
    "plt.title('Average Monthly Temps (F) vs. Monthly Total Crimes')\n",
    "plt.annotate(line_eq, (50, 14000), fontsize=12,color='red')\n",
    "plt.savefig('output/regressionscatter.png')\n",
    "plt.show()\n",
    "\n",
    "print(f'The correlation r value is: {r}')"
   ]
  },
  {
   "cell_type": "markdown",
   "metadata": {},
   "source": [
    "## Correlation Discussion\n",
    "\n",
    "There seems to be a moderate linear positive relationship between the average monthly temperature and the monthly total count of crimes. The r value and the scatter plot both indicate this. This seems to make sense as it gets warmer, I would think people are more likely to be out and drinking. The summer months are warmer but also high school and college students would be out of school so that may contribute as well."
   ]
  },
  {
   "cell_type": "markdown",
   "metadata": {},
   "source": [
    "## Hypothesis testing for correlation - T-test\n",
    "\n",
    "$H_{o}$: There is not a linear relationship between average monthly temperature and monthly crime total. \n",
    "\n",
    "$H_{a}$: There is a linear relationship between average monthly temperature and monthly crime total. \n"
   ]
  },
  {
   "cell_type": "code",
   "execution_count": 15,
   "metadata": {},
   "outputs": [
    {
     "data": {
      "text/plain": [
       "3.8507654168735615e-05"
      ]
     },
     "execution_count": 15,
     "metadata": {},
     "output_type": "execute_result"
    }
   ],
   "source": [
    "from scipy.stats import pearsonr, t\n",
    "correlation, p_value = pearsonr(temp, regression_df['count'])\n",
    "p_value"
   ]
  },
  {
   "cell_type": "markdown",
   "metadata": {},
   "source": [
    "Since our p-value is so low and less than 0.05, we can reject the null hypothesis. There is sufficient evidence that there is a linear relationship between the average monthly temperature and monthly crime total."
   ]
  },
  {
   "cell_type": "code",
   "execution_count": null,
   "metadata": {},
   "outputs": [],
   "source": []
  }
 ],
 "metadata": {
  "kernelspec": {
   "display_name": "base",
   "language": "python",
   "name": "python3"
  },
  "language_info": {
   "codemirror_mode": {
    "name": "ipython",
    "version": 3
   },
   "file_extension": ".py",
   "mimetype": "text/x-python",
   "name": "python",
   "nbconvert_exporter": "python",
   "pygments_lexer": "ipython3",
   "version": "3.11.4"
  }
 },
 "nbformat": 4,
 "nbformat_minor": 2
}
